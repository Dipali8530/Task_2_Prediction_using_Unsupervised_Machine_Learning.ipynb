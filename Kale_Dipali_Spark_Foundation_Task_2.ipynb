{
  "nbformat": 4,
  "nbformat_minor": 0,
  "metadata": {
    "colab": {
      "name": "Kale Dipali Spark Foundation Task 2.ipynb",
      "provenance": []
    },
    "kernelspec": {
      "name": "python3",
      "display_name": "Python 3"
    },
    "language_info": {
      "name": "python"
    }
  },
  "cells": [
    {
      "cell_type": "markdown",
      "source": [
        "Author : Kale Dipali Dnyaneshwar\n",
        "\n",
        "# ***GRIP @The Sparks Foundation Internship - MAY2022***\n",
        "\n",
        "Data Science & Business Analytics Intern\n",
        "\n",
        "Task 2 : Prediction using Unsupervised Machine Learning.\n",
        "\n",
        "\n",
        "Predict the optimum number of clusters from the iris dataset and represent it visually.\n",
        "\n",
        "\n",
        "\n",
        "\n",
        "\n",
        "\n",
        "\n",
        "\n",
        "\n"
      ],
      "metadata": {
        "id": "RnXFn5i5HnmP"
      }
    },
    {
      "cell_type": "markdown",
      "source": [
        "Importing the libraries\n"
      ],
      "metadata": {
        "id": "5T80WhM5Mrbj"
      }
    },
    {
      "cell_type": "code",
      "source": [
        "import pandas as pd\n",
        "import seaborn as sns\n",
        "import matplotlib.pyplot as plt\n",
        "from sklearn.cluster import KMeans\n",
        "import warnings\n",
        "warnings.filterwarnings('ignore')\n",
        "sns.set()"
      ],
      "metadata": {
        "id": "3d0ASdykGiM1"
      },
      "execution_count": 1,
      "outputs": []
    },
    {
      "cell_type": "markdown",
      "source": [
        "Importing the dataset"
      ],
      "metadata": {
        "id": "SLs2mOk3Gq6x"
      }
    },
    {
      "cell_type": "code",
      "source": [
        "from google.colab import drive\n",
        "drive.mount('/content/drive')"
      ],
      "metadata": {
        "colab": {
          "base_uri": "https://localhost:8080/"
        },
        "id": "5g4YbYEDIFzn",
        "outputId": "b3602995-c134-4a25-fcc1-25e3bc6fee64"
      },
      "execution_count": 6,
      "outputs": [
        {
          "output_type": "stream",
          "name": "stdout",
          "text": [
            "Drive already mounted at /content/drive; to attempt to forcibly remount, call drive.mount(\"/content/drive\", force_remount=True).\n"
          ]
        }
      ]
    },
    {
      "cell_type": "code",
      "source": [
        "# Load the iris dataset\n",
        "df = pd.read_csv('/content/drive/MyDrive/Iris (1) Spark foundation task 2 dataset.csv')"
      ],
      "metadata": {
        "id": "76UUW7Q9IZf_"
      },
      "execution_count": 7,
      "outputs": []
    },
    {
      "cell_type": "code",
      "source": [
        "df.head() #view first 5 rows of the dataset"
      ],
      "metadata": {
        "colab": {
          "base_uri": "https://localhost:8080/",
          "height": 206
        },
        "id": "g90uu3eyJn_6",
        "outputId": "ffffbf33-8f67-4a98-ce5b-95920e559127"
      },
      "execution_count": 8,
      "outputs": [
        {
          "output_type": "execute_result",
          "data": {
            "text/plain": [
              "   Id  SepalLengthCm  SepalWidthCm  PetalLengthCm  PetalWidthCm      Species\n",
              "0   1            5.1           3.5            1.4           0.2  Iris-setosa\n",
              "1   2            4.9           3.0            1.4           0.2  Iris-setosa\n",
              "2   3            4.7           3.2            1.3           0.2  Iris-setosa\n",
              "3   4            4.6           3.1            1.5           0.2  Iris-setosa\n",
              "4   5            5.0           3.6            1.4           0.2  Iris-setosa"
            ],
            "text/html": [
              "\n",
              "  <div id=\"df-dc30ee48-3303-422b-990f-10ab6117ab1a\">\n",
              "    <div class=\"colab-df-container\">\n",
              "      <div>\n",
              "<style scoped>\n",
              "    .dataframe tbody tr th:only-of-type {\n",
              "        vertical-align: middle;\n",
              "    }\n",
              "\n",
              "    .dataframe tbody tr th {\n",
              "        vertical-align: top;\n",
              "    }\n",
              "\n",
              "    .dataframe thead th {\n",
              "        text-align: right;\n",
              "    }\n",
              "</style>\n",
              "<table border=\"1\" class=\"dataframe\">\n",
              "  <thead>\n",
              "    <tr style=\"text-align: right;\">\n",
              "      <th></th>\n",
              "      <th>Id</th>\n",
              "      <th>SepalLengthCm</th>\n",
              "      <th>SepalWidthCm</th>\n",
              "      <th>PetalLengthCm</th>\n",
              "      <th>PetalWidthCm</th>\n",
              "      <th>Species</th>\n",
              "    </tr>\n",
              "  </thead>\n",
              "  <tbody>\n",
              "    <tr>\n",
              "      <th>0</th>\n",
              "      <td>1</td>\n",
              "      <td>5.1</td>\n",
              "      <td>3.5</td>\n",
              "      <td>1.4</td>\n",
              "      <td>0.2</td>\n",
              "      <td>Iris-setosa</td>\n",
              "    </tr>\n",
              "    <tr>\n",
              "      <th>1</th>\n",
              "      <td>2</td>\n",
              "      <td>4.9</td>\n",
              "      <td>3.0</td>\n",
              "      <td>1.4</td>\n",
              "      <td>0.2</td>\n",
              "      <td>Iris-setosa</td>\n",
              "    </tr>\n",
              "    <tr>\n",
              "      <th>2</th>\n",
              "      <td>3</td>\n",
              "      <td>4.7</td>\n",
              "      <td>3.2</td>\n",
              "      <td>1.3</td>\n",
              "      <td>0.2</td>\n",
              "      <td>Iris-setosa</td>\n",
              "    </tr>\n",
              "    <tr>\n",
              "      <th>3</th>\n",
              "      <td>4</td>\n",
              "      <td>4.6</td>\n",
              "      <td>3.1</td>\n",
              "      <td>1.5</td>\n",
              "      <td>0.2</td>\n",
              "      <td>Iris-setosa</td>\n",
              "    </tr>\n",
              "    <tr>\n",
              "      <th>4</th>\n",
              "      <td>5</td>\n",
              "      <td>5.0</td>\n",
              "      <td>3.6</td>\n",
              "      <td>1.4</td>\n",
              "      <td>0.2</td>\n",
              "      <td>Iris-setosa</td>\n",
              "    </tr>\n",
              "  </tbody>\n",
              "</table>\n",
              "</div>\n",
              "      <button class=\"colab-df-convert\" onclick=\"convertToInteractive('df-dc30ee48-3303-422b-990f-10ab6117ab1a')\"\n",
              "              title=\"Convert this dataframe to an interactive table.\"\n",
              "              style=\"display:none;\">\n",
              "        \n",
              "  <svg xmlns=\"http://www.w3.org/2000/svg\" height=\"24px\"viewBox=\"0 0 24 24\"\n",
              "       width=\"24px\">\n",
              "    <path d=\"M0 0h24v24H0V0z\" fill=\"none\"/>\n",
              "    <path d=\"M18.56 5.44l.94 2.06.94-2.06 2.06-.94-2.06-.94-.94-2.06-.94 2.06-2.06.94zm-11 1L8.5 8.5l.94-2.06 2.06-.94-2.06-.94L8.5 2.5l-.94 2.06-2.06.94zm10 10l.94 2.06.94-2.06 2.06-.94-2.06-.94-.94-2.06-.94 2.06-2.06.94z\"/><path d=\"M17.41 7.96l-1.37-1.37c-.4-.4-.92-.59-1.43-.59-.52 0-1.04.2-1.43.59L10.3 9.45l-7.72 7.72c-.78.78-.78 2.05 0 2.83L4 21.41c.39.39.9.59 1.41.59.51 0 1.02-.2 1.41-.59l7.78-7.78 2.81-2.81c.8-.78.8-2.07 0-2.86zM5.41 20L4 18.59l7.72-7.72 1.47 1.35L5.41 20z\"/>\n",
              "  </svg>\n",
              "      </button>\n",
              "      \n",
              "  <style>\n",
              "    .colab-df-container {\n",
              "      display:flex;\n",
              "      flex-wrap:wrap;\n",
              "      gap: 12px;\n",
              "    }\n",
              "\n",
              "    .colab-df-convert {\n",
              "      background-color: #E8F0FE;\n",
              "      border: none;\n",
              "      border-radius: 50%;\n",
              "      cursor: pointer;\n",
              "      display: none;\n",
              "      fill: #1967D2;\n",
              "      height: 32px;\n",
              "      padding: 0 0 0 0;\n",
              "      width: 32px;\n",
              "    }\n",
              "\n",
              "    .colab-df-convert:hover {\n",
              "      background-color: #E2EBFA;\n",
              "      box-shadow: 0px 1px 2px rgba(60, 64, 67, 0.3), 0px 1px 3px 1px rgba(60, 64, 67, 0.15);\n",
              "      fill: #174EA6;\n",
              "    }\n",
              "\n",
              "    [theme=dark] .colab-df-convert {\n",
              "      background-color: #3B4455;\n",
              "      fill: #D2E3FC;\n",
              "    }\n",
              "\n",
              "    [theme=dark] .colab-df-convert:hover {\n",
              "      background-color: #434B5C;\n",
              "      box-shadow: 0px 1px 3px 1px rgba(0, 0, 0, 0.15);\n",
              "      filter: drop-shadow(0px 1px 2px rgba(0, 0, 0, 0.3));\n",
              "      fill: #FFFFFF;\n",
              "    }\n",
              "  </style>\n",
              "\n",
              "      <script>\n",
              "        const buttonEl =\n",
              "          document.querySelector('#df-dc30ee48-3303-422b-990f-10ab6117ab1a button.colab-df-convert');\n",
              "        buttonEl.style.display =\n",
              "          google.colab.kernel.accessAllowed ? 'block' : 'none';\n",
              "\n",
              "        async function convertToInteractive(key) {\n",
              "          const element = document.querySelector('#df-dc30ee48-3303-422b-990f-10ab6117ab1a');\n",
              "          const dataTable =\n",
              "            await google.colab.kernel.invokeFunction('convertToInteractive',\n",
              "                                                     [key], {});\n",
              "          if (!dataTable) return;\n",
              "\n",
              "          const docLinkHtml = 'Like what you see? Visit the ' +\n",
              "            '<a target=\"_blank\" href=https://colab.research.google.com/notebooks/data_table.ipynb>data table notebook</a>'\n",
              "            + ' to learn more about interactive tables.';\n",
              "          element.innerHTML = '';\n",
              "          dataTable['output_type'] = 'display_data';\n",
              "          await google.colab.output.renderOutput(dataTable, element);\n",
              "          const docLink = document.createElement('div');\n",
              "          docLink.innerHTML = docLinkHtml;\n",
              "          element.appendChild(docLink);\n",
              "        }\n",
              "      </script>\n",
              "    </div>\n",
              "  </div>\n",
              "  "
            ]
          },
          "metadata": {},
          "execution_count": 8
        }
      ]
    },
    {
      "cell_type": "markdown",
      "source": [
        "Exploratory Data analysis"
      ],
      "metadata": {
        "id": "bsL2XACoJxbT"
      }
    },
    {
      "cell_type": "code",
      "source": [
        "df.shape #returns the no of rows and columns"
      ],
      "metadata": {
        "colab": {
          "base_uri": "https://localhost:8080/"
        },
        "id": "hZyHPriLJynI",
        "outputId": "3958621b-fe9a-42d2-c9cf-26f2df8630d7"
      },
      "execution_count": 9,
      "outputs": [
        {
          "output_type": "execute_result",
          "data": {
            "text/plain": [
              "(150, 6)"
            ]
          },
          "metadata": {},
          "execution_count": 9
        }
      ]
    },
    {
      "cell_type": "code",
      "source": [
        "df.info() #Basic summary about the data"
      ],
      "metadata": {
        "colab": {
          "base_uri": "https://localhost:8080/"
        },
        "id": "vkyV1E_3J_2w",
        "outputId": "9ce43608-3581-4909-c504-0e4c54aced20"
      },
      "execution_count": 10,
      "outputs": [
        {
          "output_type": "stream",
          "name": "stdout",
          "text": [
            "<class 'pandas.core.frame.DataFrame'>\n",
            "RangeIndex: 150 entries, 0 to 149\n",
            "Data columns (total 6 columns):\n",
            " #   Column         Non-Null Count  Dtype  \n",
            "---  ------         --------------  -----  \n",
            " 0   Id             150 non-null    int64  \n",
            " 1   SepalLengthCm  150 non-null    float64\n",
            " 2   SepalWidthCm   150 non-null    float64\n",
            " 3   PetalLengthCm  150 non-null    float64\n",
            " 4   PetalWidthCm   150 non-null    float64\n",
            " 5   Species        150 non-null    object \n",
            "dtypes: float64(4), int64(1), object(1)\n",
            "memory usage: 7.2+ KB\n"
          ]
        }
      ]
    },
    {
      "cell_type": "code",
      "source": [
        "df.info() #Basic summary about the data"
      ],
      "metadata": {
        "colab": {
          "base_uri": "https://localhost:8080/"
        },
        "id": "Zs3wbKTzKE-P",
        "outputId": "ad7c6633-41ce-4aa4-b04a-2cc25100adf8"
      },
      "execution_count": 11,
      "outputs": [
        {
          "output_type": "stream",
          "name": "stdout",
          "text": [
            "<class 'pandas.core.frame.DataFrame'>\n",
            "RangeIndex: 150 entries, 0 to 149\n",
            "Data columns (total 6 columns):\n",
            " #   Column         Non-Null Count  Dtype  \n",
            "---  ------         --------------  -----  \n",
            " 0   Id             150 non-null    int64  \n",
            " 1   SepalLengthCm  150 non-null    float64\n",
            " 2   SepalWidthCm   150 non-null    float64\n",
            " 3   PetalLengthCm  150 non-null    float64\n",
            " 4   PetalWidthCm   150 non-null    float64\n",
            " 5   Species        150 non-null    object \n",
            "dtypes: float64(4), int64(1), object(1)\n",
            "memory usage: 7.2+ KB\n"
          ]
        }
      ]
    },
    {
      "cell_type": "markdown",
      "source": [
        "Extracting Independent variable"
      ],
      "metadata": {
        "id": "-gx1LpgjKJ-U"
      }
    },
    {
      "cell_type": "code",
      "source": [
        "#We are using unsupervised machine learning algorithm so we don't need any dependent variable.\n",
        "\n",
        "x = df.iloc[:,1:5].values  #Extracting independent variable"
      ],
      "metadata": {
        "id": "7EoZN4cRKLH3"
      },
      "execution_count": 12,
      "outputs": []
    },
    {
      "cell_type": "markdown",
      "source": [
        "Finding the optimum number of clusters using the elbow method\n",
        "\n"
      ],
      "metadata": {
        "id": "hXcJbZ9sKTno"
      }
    },
    {
      "cell_type": "code",
      "source": [
        "# To find optimum number of clusters we use elbow method\n",
        "# Elbow method use wcss concept\n",
        "\n",
        "wcss = []  # WCSS stands for Within Cluster Sum of Squares   \n",
        "\n",
        "for i in range(1,8):\n",
        "  km=KMeans(i)\n",
        "  km.fit_predict(x)\n",
        "  wcss.append(km.inertia_)"
      ],
      "metadata": {
        "id": "YD5XuFpdKZTf"
      },
      "execution_count": 13,
      "outputs": []
    },
    {
      "cell_type": "code",
      "source": [
        "wcss"
      ],
      "metadata": {
        "colab": {
          "base_uri": "https://localhost:8080/"
        },
        "id": "VG3YyuL4KfO5",
        "outputId": "2e394bb8-8b51-46e8-dfb4-a53e35b53b4a"
      },
      "execution_count": 14,
      "outputs": [
        {
          "output_type": "execute_result",
          "data": {
            "text/plain": [
              "[680.8244000000001,\n",
              " 152.36870647733906,\n",
              " 78.940841426146,\n",
              " 57.317873214285704,\n",
              " 46.53558205128205,\n",
              " 38.945953671062355,\n",
              " 34.49095451505018]"
            ]
          },
          "metadata": {},
          "execution_count": 14
        }
      ]
    },
    {
      "cell_type": "code",
      "source": [
        "# Elbow method use wcss concept to draw a plot between number of clusters and wcss\n",
        "# WCSS on Y - axis ranging for different K Values\n",
        "\n",
        "plt.figure(figsize=(7,5))\n",
        "plt.plot(range(1,8),wcss,mec='red',marker='o',mfc='red',ms=10,color='blue')\n",
        "plt.xlabel('No of clusters',fontsize=18)\n",
        "plt.ylabel('WCSS',fontsize=18)\n",
        "plt.title('Elbow method',fontsize=18)\n",
        "plt.show()"
      ],
      "metadata": {
        "colab": {
          "base_uri": "https://localhost:8080/",
          "height": 364
        },
        "id": "9PIFNAcbKi0Q",
        "outputId": "abc39962-02ca-4fe1-8790-59691895dff6"
      },
      "execution_count": 15,
      "outputs": [
        {
          "output_type": "display_data",
          "data": {
            "text/plain": [
              "<Figure size 504x360 with 1 Axes>"
            ],
            "image/png": "[encoded data removed]"
          },
          "metadata": {
            "needs_background": "light"
          }
        }
      ]
    },
    {
      "cell_type": "markdown",
      "source": [
        "Problem statement : Predict the optimum number of clusters from the iris dataset\n",
        "\n",
        "\n",
        "From the above plot using elbow method we can see that our elbow point is at 3 . So the number of optimum clusters here will be 3\n",
        "\n",
        "\n",
        "\n",
        "Training the K-means algorithm on the training dataset"
      ],
      "metadata": {
        "id": "Dm_iIll1KpX9"
      }
    },
    {
      "cell_type": "code",
      "source": [
        "# Training the algorithm\n",
        "km=KMeans(n_clusters = 3, init = 'k-means++',\n",
        "                max_iter = 300, n_init = 10, random_state = 0)"
      ],
      "metadata": {
        "id": "8-2wseddKvt2"
      },
      "execution_count": 16,
      "outputs": []
    },
    {
      "cell_type": "code",
      "source": [
        "y_pred = km.fit_predict(x) \n",
        "y_pred"
      ],
      "metadata": {
        "colab": {
          "base_uri": "https://localhost:8080/"
        },
        "id": "xJ5Zt55hK0ZV",
        "outputId": "ba114c73-340d-4cf5-9011-58a03995166d"
      },
      "execution_count": 17,
      "outputs": [
        {
          "output_type": "execute_result",
          "data": {
            "text/plain": [
              "array([1, 1, 1, 1, 1, 1, 1, 1, 1, 1, 1, 1, 1, 1, 1, 1, 1, 1, 1, 1, 1, 1,\n",
              "       1, 1, 1, 1, 1, 1, 1, 1, 1, 1, 1, 1, 1, 1, 1, 1, 1, 1, 1, 1, 1, 1,\n",
              "       1, 1, 1, 1, 1, 1, 0, 0, 2, 0, 0, 0, 0, 0, 0, 0, 0, 0, 0, 0, 0, 0,\n",
              "       0, 0, 0, 0, 0, 0, 0, 0, 0, 0, 0, 2, 0, 0, 0, 0, 0, 0, 0, 0, 0, 0,\n",
              "       0, 0, 0, 0, 0, 0, 0, 0, 0, 0, 0, 0, 2, 0, 2, 2, 2, 2, 0, 2, 2, 2,\n",
              "       2, 2, 2, 0, 0, 2, 2, 2, 2, 0, 2, 0, 2, 0, 2, 2, 0, 0, 2, 2, 2, 2,\n",
              "       2, 0, 2, 2, 2, 2, 0, 2, 2, 2, 0, 2, 2, 2, 0, 2, 2, 0], dtype=int32)"
            ]
          },
          "metadata": {},
          "execution_count": 17
        }
      ]
    },
    {
      "cell_type": "code",
      "source": [
        "# To view the cluster centroids\n",
        "km.cluster_centers_"
      ],
      "metadata": {
        "colab": {
          "base_uri": "https://localhost:8080/"
        },
        "id": "Tz7xnQJXK3HS",
        "outputId": "6c330d64-1e9d-4767-c292-7a26f6b51904"
      },
      "execution_count": 18,
      "outputs": [
        {
          "output_type": "execute_result",
          "data": {
            "text/plain": [
              "array([[5.9016129 , 2.7483871 , 4.39354839, 1.43387097],\n",
              "       [5.006     , 3.418     , 1.464     , 0.244     ],\n",
              "       [6.85      , 3.07368421, 5.74210526, 2.07105263]])"
            ]
          },
          "metadata": {},
          "execution_count": 18
        }
      ]
    },
    {
      "cell_type": "markdown",
      "source": [
        "Visualizing the Clusters"
      ],
      "metadata": {
        "id": "53TWEY2yK5sl"
      }
    },
    {
      "cell_type": "code",
      "source": [
        "plt.figure(figsize=(10,7))\n",
        "\n",
        "# Visualize Cluster-1 with label 'Iris-setosa' \n",
        "plt.scatter(x[y_pred==0,0],x[y_pred==0,1],color='Navy',s=50,label='Iris-setosa')\n",
        "\n",
        "# Visualize Cluster-2 with label 'Iris -versicolour'  \n",
        "plt.scatter(x[y_pred==1,0],x[y_pred==1,1],color='DarkRed',s=50,label='Iris-versicolour')\n",
        "\n",
        "\n",
        "# Visualize Cluster-3 with label 'Iris-virginica' \n",
        "plt.scatter(x[y_pred==2,0],x[y_pred==2,1],color='DarkGreen',s=50,label='Iris-virginica')\n",
        "\n",
        "# Visualize Centroids with label 'Centroids' \n",
        "plt.plot(km.cluster_centers_[:,0],km.cluster_centers_[:,1],'o',color='yellow',label='Centroids',markeredgecolor='black',ms=15)\n",
        "\n",
        "plt.title('Cluster of Species',fontsize=17)\n",
        "plt.legend()\n",
        "plt.show()"
      ],
      "metadata": {
        "colab": {
          "base_uri": "https://localhost:8080/",
          "height": 451
        },
        "id": "kGvOY1KmK6cN",
        "outputId": "321de559-6bef-40d4-82a3-995475cdc56c"
      },
      "execution_count": 19,
      "outputs": [
        {
          "output_type": "display_data",
          "data": {
            "text/plain": [
              "<Figure size 720x504 with 1 Axes>"
            ],
            "image/png": "[encoded data removed]"
          },
          "metadata": {
            "needs_background": "light"
          }
        }
      ]
    },
    {
      "cell_type": "markdown",
      "source": [
        "# **Summary**\n",
        "The dataset consist of Id ,Sepal length, Sepal width, Petal length ,Petal width and Species.\n",
        "There are 150 rows and 6 columns.\n",
        "### **Problem Statement** : Predict the optimum number of clusters from the iris dataset and represent it visually\n",
        "\n",
        "\n",
        "![image.png](data:image/png;base64,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)"
      ],
      "metadata": {
        "id": "6bzHRNXGLDwY"
      }
    },
    {
      "cell_type": "markdown",
      "source": [
        "From the above plot using elbow method we can see that our elbow point occurs at 3 .So the number of optimum clusters for iris dataset will be 3.\n",
        "\n",
        "KMeans is an unsupervised machine learning algorithm. Using Kmeans the data has been clustered. It divides the data into 3 clusters of flower species they are Iris-setosa, Iris-versicolour and Iris-virginica."
      ],
      "metadata": {
        "id": "WfltcQ4EL2rF"
      }
    },
    {
      "cell_type": "markdown",
      "source": [
        "# **Thank You**"
      ],
      "metadata": {
        "id": "x_UlbzK_L9Sj"
      }
    }
  ]
}